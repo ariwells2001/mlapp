{
 "cells": [
  {
   "cell_type": "code",
   "execution_count": 9,
   "id": "3b04379f",
   "metadata": {},
   "outputs": [],
   "source": [
    "import pandas as pd\n",
    "import matplotlib.pyplot as plt\n",
    "\n",
    "df = pd.read_csv(\"survey_results_public.csv\")\n"
   ]
  },
  {
   "cell_type": "code",
   "execution_count": 7,
   "id": "d57fecba",
   "metadata": {},
   "outputs": [
    {
     "ename": "KeyError",
     "evalue": "\"['ConvertedComp'] not in index\"",
     "output_type": "error",
     "traceback": [
      "\u001b[0;31m---------------------------------------------------------------------------\u001b[0m",
      "\u001b[0;31mKeyError\u001b[0m                                  Traceback (most recent call last)",
      "\u001b[0;32m/tmp/ipykernel_7483/3761400932.py\u001b[0m in \u001b[0;36m<module>\u001b[0;34m\u001b[0m\n\u001b[0;32m----> 1\u001b[0;31m \u001b[0mdf\u001b[0m \u001b[0;34m=\u001b[0m \u001b[0mdf\u001b[0m\u001b[0;34m[\u001b[0m\u001b[0;34m[\u001b[0m\u001b[0;34m\"Country\"\u001b[0m\u001b[0;34m,\u001b[0m\u001b[0;34m\"EdLevel\"\u001b[0m\u001b[0;34m,\u001b[0m\u001b[0;34m\"YearsCodePro\"\u001b[0m\u001b[0;34m,\u001b[0m\u001b[0;34m\"Employment\"\u001b[0m\u001b[0;34m,\u001b[0m\u001b[0;34m\"ConvertedComp\"\u001b[0m\u001b[0;34m]\u001b[0m\u001b[0;34m]\u001b[0m\u001b[0;34m\u001b[0m\u001b[0;34m\u001b[0m\u001b[0m\n\u001b[0m\u001b[1;32m      2\u001b[0m \u001b[0mdf\u001b[0m \u001b[0;34m=\u001b[0m \u001b[0mdf\u001b[0m\u001b[0;34m.\u001b[0m\u001b[0mrename\u001b[0m\u001b[0;34m(\u001b[0m\u001b[0;34m{\u001b[0m\u001b[0;34m\"ConvertedComp\"\u001b[0m\u001b[0;34m:\u001b[0m\u001b[0;34m\"Salary\"\u001b[0m\u001b[0;34m}\u001b[0m\u001b[0;34m,\u001b[0m\u001b[0maxis\u001b[0m\u001b[0;34m=\u001b[0m\u001b[0;36m1\u001b[0m\u001b[0;34m)\u001b[0m\u001b[0;34m\u001b[0m\u001b[0;34m\u001b[0m\u001b[0m\n\u001b[1;32m      3\u001b[0m \u001b[0mdf\u001b[0m\u001b[0;34m.\u001b[0m\u001b[0mhead\u001b[0m\u001b[0;34m(\u001b[0m\u001b[0;34m)\u001b[0m\u001b[0;34m\u001b[0m\u001b[0;34m\u001b[0m\u001b[0m\n",
      "\u001b[0;32m~/anaconda3/envs/ml/lib/python3.9/site-packages/pandas/core/frame.py\u001b[0m in \u001b[0;36m__getitem__\u001b[0;34m(self, key)\u001b[0m\n\u001b[1;32m   3462\u001b[0m             \u001b[0;32mif\u001b[0m \u001b[0mis_iterator\u001b[0m\u001b[0;34m(\u001b[0m\u001b[0mkey\u001b[0m\u001b[0;34m)\u001b[0m\u001b[0;34m:\u001b[0m\u001b[0;34m\u001b[0m\u001b[0;34m\u001b[0m\u001b[0m\n\u001b[1;32m   3463\u001b[0m                 \u001b[0mkey\u001b[0m \u001b[0;34m=\u001b[0m \u001b[0mlist\u001b[0m\u001b[0;34m(\u001b[0m\u001b[0mkey\u001b[0m\u001b[0;34m)\u001b[0m\u001b[0;34m\u001b[0m\u001b[0;34m\u001b[0m\u001b[0m\n\u001b[0;32m-> 3464\u001b[0;31m             \u001b[0mindexer\u001b[0m \u001b[0;34m=\u001b[0m \u001b[0mself\u001b[0m\u001b[0;34m.\u001b[0m\u001b[0mloc\u001b[0m\u001b[0;34m.\u001b[0m\u001b[0m_get_listlike_indexer\u001b[0m\u001b[0;34m(\u001b[0m\u001b[0mkey\u001b[0m\u001b[0;34m,\u001b[0m \u001b[0maxis\u001b[0m\u001b[0;34m=\u001b[0m\u001b[0;36m1\u001b[0m\u001b[0;34m)\u001b[0m\u001b[0;34m[\u001b[0m\u001b[0;36m1\u001b[0m\u001b[0;34m]\u001b[0m\u001b[0;34m\u001b[0m\u001b[0;34m\u001b[0m\u001b[0m\n\u001b[0m\u001b[1;32m   3465\u001b[0m \u001b[0;34m\u001b[0m\u001b[0m\n\u001b[1;32m   3466\u001b[0m         \u001b[0;31m# take() does not accept boolean indexers\u001b[0m\u001b[0;34m\u001b[0m\u001b[0;34m\u001b[0m\u001b[0m\n",
      "\u001b[0;32m~/anaconda3/envs/ml/lib/python3.9/site-packages/pandas/core/indexing.py\u001b[0m in \u001b[0;36m_get_listlike_indexer\u001b[0;34m(self, key, axis)\u001b[0m\n\u001b[1;32m   1312\u001b[0m             \u001b[0mkeyarr\u001b[0m\u001b[0;34m,\u001b[0m \u001b[0mindexer\u001b[0m\u001b[0;34m,\u001b[0m \u001b[0mnew_indexer\u001b[0m \u001b[0;34m=\u001b[0m \u001b[0max\u001b[0m\u001b[0;34m.\u001b[0m\u001b[0m_reindex_non_unique\u001b[0m\u001b[0;34m(\u001b[0m\u001b[0mkeyarr\u001b[0m\u001b[0;34m)\u001b[0m\u001b[0;34m\u001b[0m\u001b[0;34m\u001b[0m\u001b[0m\n\u001b[1;32m   1313\u001b[0m \u001b[0;34m\u001b[0m\u001b[0m\n\u001b[0;32m-> 1314\u001b[0;31m         \u001b[0mself\u001b[0m\u001b[0;34m.\u001b[0m\u001b[0m_validate_read_indexer\u001b[0m\u001b[0;34m(\u001b[0m\u001b[0mkeyarr\u001b[0m\u001b[0;34m,\u001b[0m \u001b[0mindexer\u001b[0m\u001b[0;34m,\u001b[0m \u001b[0maxis\u001b[0m\u001b[0;34m)\u001b[0m\u001b[0;34m\u001b[0m\u001b[0;34m\u001b[0m\u001b[0m\n\u001b[0m\u001b[1;32m   1315\u001b[0m \u001b[0;34m\u001b[0m\u001b[0m\n\u001b[1;32m   1316\u001b[0m         if needs_i8_conversion(ax.dtype) or isinstance(\n",
      "\u001b[0;32m~/anaconda3/envs/ml/lib/python3.9/site-packages/pandas/core/indexing.py\u001b[0m in \u001b[0;36m_validate_read_indexer\u001b[0;34m(self, key, indexer, axis)\u001b[0m\n\u001b[1;32m   1375\u001b[0m \u001b[0;34m\u001b[0m\u001b[0m\n\u001b[1;32m   1376\u001b[0m             \u001b[0mnot_found\u001b[0m \u001b[0;34m=\u001b[0m \u001b[0mlist\u001b[0m\u001b[0;34m(\u001b[0m\u001b[0mensure_index\u001b[0m\u001b[0;34m(\u001b[0m\u001b[0mkey\u001b[0m\u001b[0;34m)\u001b[0m\u001b[0;34m[\u001b[0m\u001b[0mmissing_mask\u001b[0m\u001b[0;34m.\u001b[0m\u001b[0mnonzero\u001b[0m\u001b[0;34m(\u001b[0m\u001b[0;34m)\u001b[0m\u001b[0;34m[\u001b[0m\u001b[0;36m0\u001b[0m\u001b[0;34m]\u001b[0m\u001b[0;34m]\u001b[0m\u001b[0;34m.\u001b[0m\u001b[0munique\u001b[0m\u001b[0;34m(\u001b[0m\u001b[0;34m)\u001b[0m\u001b[0;34m)\u001b[0m\u001b[0;34m\u001b[0m\u001b[0;34m\u001b[0m\u001b[0m\n\u001b[0;32m-> 1377\u001b[0;31m             \u001b[0;32mraise\u001b[0m \u001b[0mKeyError\u001b[0m\u001b[0;34m(\u001b[0m\u001b[0;34mf\"{not_found} not in index\"\u001b[0m\u001b[0;34m)\u001b[0m\u001b[0;34m\u001b[0m\u001b[0;34m\u001b[0m\u001b[0m\n\u001b[0m\u001b[1;32m   1378\u001b[0m \u001b[0;34m\u001b[0m\u001b[0m\n\u001b[1;32m   1379\u001b[0m \u001b[0;34m\u001b[0m\u001b[0m\n",
      "\u001b[0;31mKeyError\u001b[0m: \"['ConvertedComp'] not in index\""
     ]
    }
   ],
   "source": [
    "df = df[[\"Country\",\"EdLevel\",\"YearsCodePro\",\"Employment\",\"ConvertedComp\"]]\n",
    "df = df.rename({\"ConvertedComp\":\"Salary\"},axis=1)\n",
    "df.head()"
   ]
  },
  {
   "cell_type": "code",
   "execution_count": 9,
   "id": "b7deeb11",
   "metadata": {},
   "outputs": [
    {
     "data": {
      "text/html": [
       "<div>\n",
       "<style scoped>\n",
       "    .dataframe tbody tr th:only-of-type {\n",
       "        vertical-align: middle;\n",
       "    }\n",
       "\n",
       "    .dataframe tbody tr th {\n",
       "        vertical-align: top;\n",
       "    }\n",
       "\n",
       "    .dataframe thead th {\n",
       "        text-align: right;\n",
       "    }\n",
       "</style>\n",
       "<table border=\"1\" class=\"dataframe\">\n",
       "  <thead>\n",
       "    <tr style=\"text-align: right;\">\n",
       "      <th></th>\n",
       "      <th>Country</th>\n",
       "      <th>EdLevel</th>\n",
       "      <th>YearsCodePro</th>\n",
       "      <th>Employment</th>\n",
       "      <th>Salary</th>\n",
       "    </tr>\n",
       "  </thead>\n",
       "  <tbody>\n",
       "    <tr>\n",
       "      <th>7</th>\n",
       "      <td>United States</td>\n",
       "      <td>Bachelor’s degree (B.A., B.S., B.Eng., etc.)</td>\n",
       "      <td>13</td>\n",
       "      <td>Employed full-time</td>\n",
       "      <td>116000.0</td>\n",
       "    </tr>\n",
       "    <tr>\n",
       "      <th>9</th>\n",
       "      <td>United Kingdom</td>\n",
       "      <td>Master’s degree (M.A., M.S., M.Eng., MBA, etc.)</td>\n",
       "      <td>4</td>\n",
       "      <td>Employed full-time</td>\n",
       "      <td>32315.0</td>\n",
       "    </tr>\n",
       "    <tr>\n",
       "      <th>10</th>\n",
       "      <td>United Kingdom</td>\n",
       "      <td>Bachelor’s degree (B.A., B.S., B.Eng., etc.)</td>\n",
       "      <td>2</td>\n",
       "      <td>Employed full-time</td>\n",
       "      <td>40070.0</td>\n",
       "    </tr>\n",
       "    <tr>\n",
       "      <th>11</th>\n",
       "      <td>Spain</td>\n",
       "      <td>Some college/university study without earning ...</td>\n",
       "      <td>7</td>\n",
       "      <td>Employed full-time</td>\n",
       "      <td>14268.0</td>\n",
       "    </tr>\n",
       "    <tr>\n",
       "      <th>12</th>\n",
       "      <td>Netherlands</td>\n",
       "      <td>Secondary school (e.g. American high school, G...</td>\n",
       "      <td>20</td>\n",
       "      <td>Employed full-time</td>\n",
       "      <td>38916.0</td>\n",
       "    </tr>\n",
       "  </tbody>\n",
       "</table>\n",
       "</div>"
      ],
      "text/plain": [
       "           Country                                            EdLevel  \\\n",
       "7    United States       Bachelor’s degree (B.A., B.S., B.Eng., etc.)   \n",
       "9   United Kingdom    Master’s degree (M.A., M.S., M.Eng., MBA, etc.)   \n",
       "10  United Kingdom       Bachelor’s degree (B.A., B.S., B.Eng., etc.)   \n",
       "11           Spain  Some college/university study without earning ...   \n",
       "12     Netherlands  Secondary school (e.g. American high school, G...   \n",
       "\n",
       "   YearsCodePro          Employment    Salary  \n",
       "7            13  Employed full-time  116000.0  \n",
       "9             4  Employed full-time   32315.0  \n",
       "10            2  Employed full-time   40070.0  \n",
       "11            7  Employed full-time   14268.0  \n",
       "12           20  Employed full-time   38916.0  "
      ]
     },
     "execution_count": 9,
     "metadata": {},
     "output_type": "execute_result"
    }
   ],
   "source": [
    "df = df[df[\"Salary\"].notnull()]\n",
    "df.head()"
   ]
  },
  {
   "cell_type": "code",
   "execution_count": 10,
   "id": "162d85cb",
   "metadata": {},
   "outputs": [
    {
     "name": "stdout",
     "output_type": "stream",
     "text": [
      "<class 'pandas.core.frame.DataFrame'>\n",
      "Int64Index: 34756 entries, 7 to 64154\n",
      "Data columns (total 5 columns):\n",
      " #   Column        Non-Null Count  Dtype  \n",
      "---  ------        --------------  -----  \n",
      " 0   Country       34756 non-null  object \n",
      " 1   EdLevel       34188 non-null  object \n",
      " 2   YearsCodePro  34621 non-null  object \n",
      " 3   Employment    34717 non-null  object \n",
      " 4   Salary        34756 non-null  float64\n",
      "dtypes: float64(1), object(4)\n",
      "memory usage: 1.6+ MB\n"
     ]
    }
   ],
   "source": [
    "df.info()"
   ]
  },
  {
   "cell_type": "code",
   "execution_count": 11,
   "id": "2bcdb3c9",
   "metadata": {},
   "outputs": [
    {
     "data": {
      "text/plain": [
       "Country         0\n",
       "EdLevel         0\n",
       "YearsCodePro    0\n",
       "Employment      0\n",
       "Salary          0\n",
       "dtype: int64"
      ]
     },
     "execution_count": 11,
     "metadata": {},
     "output_type": "execute_result"
    }
   ],
   "source": [
    "df = df.dropna()\n",
    "df.isnull().sum()"
   ]
  },
  {
   "cell_type": "code",
   "execution_count": 13,
   "id": "0074c588",
   "metadata": {},
   "outputs": [
    {
     "data": {
      "text/html": [
       "<div>\n",
       "<style scoped>\n",
       "    .dataframe tbody tr th:only-of-type {\n",
       "        vertical-align: middle;\n",
       "    }\n",
       "\n",
       "    .dataframe tbody tr th {\n",
       "        vertical-align: top;\n",
       "    }\n",
       "\n",
       "    .dataframe thead th {\n",
       "        text-align: right;\n",
       "    }\n",
       "</style>\n",
       "<table border=\"1\" class=\"dataframe\">\n",
       "  <thead>\n",
       "    <tr style=\"text-align: right;\">\n",
       "      <th></th>\n",
       "      <th>Country</th>\n",
       "      <th>EdLevel</th>\n",
       "      <th>YearsCodePro</th>\n",
       "      <th>Salary</th>\n",
       "    </tr>\n",
       "  </thead>\n",
       "  <tbody>\n",
       "    <tr>\n",
       "      <th>7</th>\n",
       "      <td>United States</td>\n",
       "      <td>Bachelor’s degree (B.A., B.S., B.Eng., etc.)</td>\n",
       "      <td>13</td>\n",
       "      <td>116000.0</td>\n",
       "    </tr>\n",
       "    <tr>\n",
       "      <th>9</th>\n",
       "      <td>United Kingdom</td>\n",
       "      <td>Master’s degree (M.A., M.S., M.Eng., MBA, etc.)</td>\n",
       "      <td>4</td>\n",
       "      <td>32315.0</td>\n",
       "    </tr>\n",
       "    <tr>\n",
       "      <th>10</th>\n",
       "      <td>United Kingdom</td>\n",
       "      <td>Bachelor’s degree (B.A., B.S., B.Eng., etc.)</td>\n",
       "      <td>2</td>\n",
       "      <td>40070.0</td>\n",
       "    </tr>\n",
       "    <tr>\n",
       "      <th>11</th>\n",
       "      <td>Spain</td>\n",
       "      <td>Some college/university study without earning ...</td>\n",
       "      <td>7</td>\n",
       "      <td>14268.0</td>\n",
       "    </tr>\n",
       "    <tr>\n",
       "      <th>12</th>\n",
       "      <td>Netherlands</td>\n",
       "      <td>Secondary school (e.g. American high school, G...</td>\n",
       "      <td>20</td>\n",
       "      <td>38916.0</td>\n",
       "    </tr>\n",
       "  </tbody>\n",
       "</table>\n",
       "</div>"
      ],
      "text/plain": [
       "           Country                                            EdLevel  \\\n",
       "7    United States       Bachelor’s degree (B.A., B.S., B.Eng., etc.)   \n",
       "9   United Kingdom    Master’s degree (M.A., M.S., M.Eng., MBA, etc.)   \n",
       "10  United Kingdom       Bachelor’s degree (B.A., B.S., B.Eng., etc.)   \n",
       "11           Spain  Some college/university study without earning ...   \n",
       "12     Netherlands  Secondary school (e.g. American high school, G...   \n",
       "\n",
       "   YearsCodePro    Salary  \n",
       "7            13  116000.0  \n",
       "9             4   32315.0  \n",
       "10            2   40070.0  \n",
       "11            7   14268.0  \n",
       "12           20   38916.0  "
      ]
     },
     "execution_count": 13,
     "metadata": {},
     "output_type": "execute_result"
    }
   ],
   "source": [
    "df = df[df[\"Employment\"] == \"Employed full-time\"]\n",
    "#df.head()\n",
    "df = df.drop(\"Employment\",axis=1)\n",
    "df.head()"
   ]
  },
  {
   "cell_type": "code",
   "execution_count": 15,
   "id": "2703f8ba",
   "metadata": {},
   "outputs": [
    {
     "data": {
      "text/plain": [
       "United States     7569\n",
       "India             2425\n",
       "United Kingdom    2287\n",
       "Germany           1903\n",
       "Canada            1178\n",
       "                  ... \n",
       "Benin                1\n",
       "Fiji                 1\n",
       "San Marino           1\n",
       "Guinea               1\n",
       "Andorra              1\n",
       "Name: Country, Length: 154, dtype: int64"
      ]
     },
     "execution_count": 15,
     "metadata": {},
     "output_type": "execute_result"
    }
   ],
   "source": [
    "df['Country'].value_counts()"
   ]
  },
  {
   "cell_type": "code",
   "execution_count": 27,
   "id": "955bcb58",
   "metadata": {},
   "outputs": [],
   "source": [
    "def shorten_categories(categories,cutoff):\n",
    "    categorical_map = {}\n",
    "    for i in range(len(categories)):\n",
    "        if categories.values[i] >= cutoff:\n",
    "            categorical_map[categories.index[i]] = categories.index[i]\n",
    "        else:categorical_map[categories.index[i]] = 'Other'\n",
    "    return categorical_map"
   ]
  },
  {
   "cell_type": "code",
   "execution_count": 28,
   "id": "01e536cd",
   "metadata": {},
   "outputs": [
    {
     "name": "stdout",
     "output_type": "stream",
     "text": [
      "[7569 2425 2287 1903 1178  991  972  670  659  654  566  560  522  514\n",
      "  327  300  271  266  256  253  252  249  246  244  229  220  219  218\n",
      "  215  208  196  182  181  176  174  162  159  159  140  117  116  116\n",
      "  110  106  104   97   93   90   86   85   84   81   80   74   73   71\n",
      "   67   62   62   57   52   48   46   44   41   41   39   37   28   28\n",
      "   28   27   26   26   25   25   24   23   23   23   23   22   21   21\n",
      "   20   20   20   19   18   17   17   16   15   15   14   13   12   12\n",
      "   12   12   12   12   11   11   11   10    8    8    8    8    7    6\n",
      "    6    6    5    5    5    5    5    4    4    4    4    4    4    3\n",
      "    3    3    3    3    3    3    3    2    2    2    2    2    1    1\n",
      "    1    1    1    1    1    1    1    1    1    1    1    1    1    1]\n"
     ]
    }
   ],
   "source": [
    "print("
   ]
  },
  {
   "cell_type": "code",
   "execution_count": 29,
   "id": "b0ccaa0c",
   "metadata": {},
   "outputs": [
    {
     "name": "stdout",
     "output_type": "stream",
     "text": [
      "<class 'dict'>\n",
      "{'United States': 'United States', 'India': 'India', 'United Kingdom': 'United Kingdom', 'Germany': 'Germany', 'Canada': 'Canada', 'Brazil': 'Brazil', 'France': 'France', 'Spain': 'Spain', 'Australia': 'Australia', 'Netherlands': 'Netherlands', 'Poland': 'Poland', 'Italy': 'Italy', 'Russian Federation': 'Russian Federation', 'Sweden': 'Sweden', 'Turkey': 'Other', 'Israel': 'Other', 'Pakistan': 'Other', 'Switzerland': 'Other', 'Mexico': 'Other', 'Ireland': 'Other', 'Norway': 'Other', 'Ukraine': 'Other', 'Romania': 'Other', 'South Africa': 'Other', 'Czech Republic': 'Other', 'Austria': 'Other', 'Belgium': 'Other', 'Iran': 'Other', 'Portugal': 'Other', 'Denmark': 'Other', 'Finland': 'Other', 'Argentina': 'Other', 'Hungary': 'Other', 'New Zealand': 'Other', 'Greece': 'Other', 'Japan': 'Other', 'Bangladesh': 'Other', 'Bulgaria': 'Other', 'Colombia': 'Other', 'Serbia': 'Other', 'Indonesia': 'Other', 'Philippines': 'Other', 'Nigeria': 'Other', 'Singapore': 'Other', 'Lithuania': 'Other', 'Sri Lanka': 'Other', 'Chile': 'Other', 'China': 'Other', 'Viet Nam': 'Other', 'Croatia': 'Other', 'Malaysia': 'Other', 'Estonia': 'Other', 'Slovenia': 'Other', 'Egypt': 'Other', 'South Korea': 'Other', 'Nepal': 'Other', 'Taiwan': 'Other', 'Slovakia': 'Other', 'Belarus': 'Other', 'Latvia': 'Other', 'Uruguay': 'Other', 'United Arab Emirates': 'Other', 'Kenya': 'Other', 'Peru': 'Other', 'Thailand': 'Other', 'Hong Kong (S.A.R.)': 'Other', 'Dominican Republic': 'Other', 'Bosnia and Herzegovina': 'Other', 'Iceland': 'Other', 'Costa Rica': 'Other', 'Kazakhstan': 'Other', 'Malta': 'Other', 'Republic of Korea': 'Other', 'Cyprus': 'Other', 'Ghana': 'Other', 'Lebanon': 'Other', 'Morocco': 'Other', 'Armenia': 'Other', 'Jordan': 'Other', 'Tunisia': 'Other', 'Venezuela, Bolivarian Republic of...': 'Other', 'Georgia': 'Other', 'Guatemala': 'Other', 'Ecuador': 'Other', 'Uganda': 'Other', 'Albania': 'Other', 'Luxembourg': 'Other', 'Republic of Moldova': 'Other', 'Bolivia': 'Other', 'Nicaragua': 'Other', 'Saudi Arabia': 'Other', 'Azerbaijan': 'Other', 'Afghanistan': 'Other', 'El Salvador': 'Other', 'Paraguay': 'Other', 'Myanmar': 'Other', 'Kosovo': 'Other', 'Algeria': 'Other', 'The former Yugoslav Republic of Macedonia': 'Other', 'Ethiopia': 'Other', 'Panama': 'Other', 'Cuba': 'Other', 'Honduras': 'Other', 'Uzbekistan': 'Other', 'Iraq': 'Other', 'Qatar': 'Other', 'Nomadic': 'Other', 'Jamaica': 'Other', 'Zimbabwe': 'Other', 'Kyrgyzstan': 'Other', 'Cambodia': 'Other', 'Sudan': 'Other', 'Madagascar': 'Other', 'Mauritius': 'Other', 'Cameroon': 'Other', 'United Republic of Tanzania': 'Other', 'Bhutan': 'Other', 'Montenegro': 'Other', 'Trinidad and Tobago': 'Other', 'Oman': 'Other', 'Kuwait': 'Other', 'Mongolia': 'Other', 'Syrian Arab Republic': 'Other', 'Isle of Man': 'Other', 'Bahrain': 'Other', 'Haiti': 'Other', 'Botswana': 'Other', 'Guyana': 'Other', 'Rwanda': 'Other', 'Maldives': 'Other', 'Togo': 'Other', \"Lao People's Democratic Republic\": 'Other', 'Zambia': 'Other', 'Angola': 'Other', 'Mauritania': 'Other', 'Somalia': 'Other', \"Côte d'Ivoire\": 'Other', 'Democratic Republic of the Congo': 'Other', 'Bahamas': 'Other', 'Senegal': 'Other', 'Yemen': 'Other', 'Belize': 'Other', 'Niger': 'Other', 'Swaziland': 'Other', 'Saint Vincent and the Grenadines': 'Other', 'Monaco': 'Other', 'Namibia': 'Other', 'Turkmenistan': 'Other', 'Barbados': 'Other', 'Benin': 'Other', 'Fiji': 'Other', 'San Marino': 'Other', 'Guinea': 'Other', 'Andorra': 'Other'}\n"
     ]
    }
   ],
   "source": [
    "country_map = shorten_categories(df.Country.value_counts(),400)\n",
    "print (type(country_map))\n",
    "print(country_map)"
   ]
  },
  {
   "cell_type": "code",
   "execution_count": 30,
   "id": "214cb33c",
   "metadata": {},
   "outputs": [
    {
     "data": {
      "text/plain": [
       "Other                 8549\n",
       "United States         7569\n",
       "India                 2425\n",
       "United Kingdom        2287\n",
       "Germany               1903\n",
       "Canada                1178\n",
       "Brazil                 991\n",
       "France                 972\n",
       "Spain                  670\n",
       "Australia              659\n",
       "Netherlands            654\n",
       "Poland                 566\n",
       "Italy                  560\n",
       "Russian Federation     522\n",
       "Sweden                 514\n",
       "Name: Country, dtype: int64"
      ]
     },
     "execution_count": 30,
     "metadata": {},
     "output_type": "execute_result"
    }
   ],
   "source": [
    "df['Country'] = df['Country'].map(country_map)\n",
    "df.Country.value_counts()"
   ]
  },
  {
   "cell_type": "code",
   "execution_count": 33,
   "id": "738cc47a",
   "metadata": {},
   "outputs": [
    {
     "data": {
      "text/plain": [
       "<bound method Series.map of 7         United States\n",
       "9        United Kingdom\n",
       "10       United Kingdom\n",
       "11                Spain\n",
       "12          Netherlands\n",
       "              ...      \n",
       "64135             Other\n",
       "64148             Other\n",
       "64152     United States\n",
       "64153             Other\n",
       "64154             Other\n",
       "Name: Country, Length: 30019, dtype: object>"
      ]
     },
     "execution_count": 33,
     "metadata": {},
     "output_type": "execute_result"
    }
   ],
   "source": [
    " df['Country'].map"
   ]
  },
  {
   "cell_type": "code",
   "execution_count": null,
   "id": "43b9e3fe",
   "metadata": {},
   "outputs": [],
   "source": []
  }
 ],
 "metadata": {
  "kernelspec": {
   "display_name": "ml",
   "language": "python",
   "name": "ml"
  },
  "language_info": {
   "codemirror_mode": {
    "name": "ipython",
    "version": 3
   },
   "file_extension": ".py",
   "mimetype": "text/x-python",
   "name": "python",
   "nbconvert_exporter": "python",
   "pygments_lexer": "ipython3",
   "version": "3.9.7"
  }
 },
 "nbformat": 4,
 "nbformat_minor": 5
}
